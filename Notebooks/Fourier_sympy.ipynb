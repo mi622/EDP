{
  "cells": [
    {
      "cell_type": "code",
      "execution_count": null,
      "id": "5f28847b",
      "metadata": {
        "id": "5f28847b"
      },
      "outputs": [],
      "source": [
        "from sympy import fourier_series, pi, plot, Piecewise\n",
        "from sympy.abc import x"
      ]
    },
    {
      "cell_type": "code",
      "execution_count": null,
      "id": "1ba494ed",
      "metadata": {
        "id": "1ba494ed"
      },
      "outputs": [],
      "source": [
        "f=Piecewise(\n",
        "    (0, x < -2),\n",
        "    (x+2,(x >= -2) & (x < 0)),\n",
        "    (0,(x<=2)))"
      ]
    },
    {
      "cell_type": "code",
      "execution_count": null,
      "id": "e16319b3",
      "metadata": {
        "id": "e16319b3"
      },
      "outputs": [],
      "source": [
        "plot(f, (x,-2,2),line_color ='red')"
      ]
    },
    {
      "cell_type": "code",
      "execution_count": null,
      "id": "f5fffb2a",
      "metadata": {
        "id": "f5fffb2a"
      },
      "outputs": [],
      "source": [
        "s = fourier_series(f, (x, -2, 2))\n",
        "s1 = s.truncate(n = 3)\n",
        "s2 = s.truncate(n = 5)\n",
        "s3 = s.truncate(n = 7)\n",
        "p = plot(f, s1, s2, s3, (x, -pi, pi), show=False, legend=True)"
      ]
    },
    {
      "cell_type": "code",
      "execution_count": null,
      "id": "482c9a3f",
      "metadata": {
        "id": "482c9a3f"
      },
      "outputs": [],
      "source": [
        "s"
      ]
    },
    {
      "cell_type": "code",
      "execution_count": null,
      "id": "de74e36f",
      "metadata": {
        "id": "de74e36f"
      },
      "outputs": [],
      "source": [
        "p[0].label = 'x'\n",
        "p[1].label = 'n=3'\n",
        "p[2].label = 'n=5'\n",
        "p[3].label = 'n=7'"
      ]
    },
    {
      "cell_type": "code",
      "execution_count": null,
      "id": "180fcc8d",
      "metadata": {
        "id": "180fcc8d"
      },
      "outputs": [],
      "source": [
        "p.show()"
      ]
    },
    {
      "cell_type": "code",
      "source": [
        "#Calcular la Serie de Fourier en senos de f(x)=e^(2x)  para 0<=x<=1"
      ],
      "metadata": {
        "id": "Px2E-LSbm68Y"
      },
      "id": "Px2E-LSbm68Y",
      "execution_count": null,
      "outputs": []
    },
    {
      "cell_type": "code",
      "source": [
        "from sympy import fourier_series, pi, plot, Piecewise, sin, symbols, integrate,exp\n",
        "from sympy.abc import x, n"
      ],
      "metadata": {
        "id": "gfC0p6zam-ey"
      },
      "id": "gfC0p6zam-ey",
      "execution_count": null,
      "outputs": []
    },
    {
      "cell_type": "code",
      "source": [
        "f=Piecewise((exp(2*x),(x>=0) & (x<=1)),(-exp(-2*x),(x>=-1) & (x<=0)))"
      ],
      "metadata": {
        "id": "F0n6IIpTnCQB"
      },
      "id": "F0n6IIpTnCQB",
      "execution_count": null,
      "outputs": []
    },
    {
      "cell_type": "code",
      "source": [
        "plot(f, (x,-1,1),line_color ='red')"
      ],
      "metadata": {
        "id": "juD-vYYbnFF_"
      },
      "id": "juD-vYYbnFF_",
      "execution_count": null,
      "outputs": []
    },
    {
      "cell_type": "code",
      "source": [
        "s = fourier_series(f, (x, -1, 1))\n",
        "s1 = s.truncate(n = 5)\n",
        "s2 = s.truncate(n = 7)\n",
        "s3 = s.truncate(n = 9)\n",
        "p = plot(f, s1, s2, s3, (x, -pi, pi), show=False, legend=True)"
      ],
      "metadata": {
        "id": "zaUbBtPpnHZx"
      },
      "id": "zaUbBtPpnHZx",
      "execution_count": null,
      "outputs": []
    },
    {
      "cell_type": "code",
      "source": [
        "s"
      ],
      "metadata": {
        "id": "O_hfNUW_nKBQ"
      },
      "id": "O_hfNUW_nKBQ",
      "execution_count": null,
      "outputs": []
    },
    {
      "cell_type": "code",
      "source": [
        "p[0].label = 'x'\n",
        "p[1].label = 'n=3'\n",
        "p[2].label = 'n=5'\n",
        "p[3].label = 'n=7'\n",
        "p.show()"
      ],
      "metadata": {
        "id": "MODszvEanKza"
      },
      "id": "MODszvEanKza",
      "execution_count": null,
      "outputs": []
    },
    {
      "cell_type": "code",
      "source": [
        "#Calcular la Serie de Fourier en cosenos de  f(x)=e^(2x)  para 0<=x<=1\n"
      ],
      "metadata": {
        "id": "OUaC24iBnN65"
      },
      "id": "OUaC24iBnN65",
      "execution_count": null,
      "outputs": []
    },
    {
      "cell_type": "code",
      "source": [
        "from sympy import fourier_series, pi, plot, Piecewise, sin, symbols, integrate,exp\n",
        "from sympy.abc import x, n"
      ],
      "metadata": {
        "id": "U1LD1n0DnRtR"
      },
      "id": "U1LD1n0DnRtR",
      "execution_count": null,
      "outputs": []
    },
    {
      "cell_type": "code",
      "source": [
        "f=Piecewise((exp(2*x),(x>=0) & (x<=1)),(exp(-2*x),(x>=-1) & (x<=0)))"
      ],
      "metadata": {
        "id": "nVCjNhYtnT4X"
      },
      "id": "nVCjNhYtnT4X",
      "execution_count": null,
      "outputs": []
    },
    {
      "cell_type": "code",
      "source": [
        "plot(f, (x,-1,1),line_color ='red')"
      ],
      "metadata": {
        "id": "ks3cwI7BnWJQ"
      },
      "id": "ks3cwI7BnWJQ",
      "execution_count": null,
      "outputs": []
    },
    {
      "cell_type": "code",
      "source": [
        "s = fourier_series(f, (x, -1, 1))\n",
        "s1 = s.truncate(n = 5)\n",
        "s2 = s.truncate(n = 7)\n",
        "s3 = s.truncate(n = 9)\n",
        "p = plot(f, s1, s2, s3, (x, -pi, pi), show=False, legend=True)"
      ],
      "metadata": {
        "id": "DufKKmtPnYKJ"
      },
      "id": "DufKKmtPnYKJ",
      "execution_count": null,
      "outputs": []
    },
    {
      "cell_type": "code",
      "source": [
        "s"
      ],
      "metadata": {
        "id": "X6_WDN3nnbEL"
      },
      "id": "X6_WDN3nnbEL",
      "execution_count": null,
      "outputs": []
    },
    {
      "cell_type": "code",
      "source": [
        "p[0].label = 'x'\n",
        "p[1].label = 'n=3'\n",
        "p[2].label = 'n=5'\n",
        "p[3].label = 'n=7'\n",
        "p.show()"
      ],
      "metadata": {
        "id": "eN2Wer-hndlA"
      },
      "id": "eN2Wer-hndlA",
      "execution_count": null,
      "outputs": []
    },
    {
      "cell_type": "code",
      "source": [
        "#Serie de Fourier en cosenos y en senos de la función a trozos\n",
        "\n",
        "#            /  1         si     0  <=  x  < π/2\n",
        "#  f(x) =  |\n",
        "#           \\  2        si      π/2  <=  x  <= π\n"
      ],
      "metadata": {
        "id": "ytEf8XD5nfxo"
      },
      "id": "ytEf8XD5nfxo",
      "execution_count": null,
      "outputs": []
    },
    {
      "cell_type": "code",
      "source": [
        "from sympy import fourier_series, pi, plot, Piecewise\n",
        "from sympy.abc import x"
      ],
      "metadata": {
        "id": "y3p7o4WBnkoc"
      },
      "id": "y3p7o4WBnkoc",
      "execution_count": null,
      "outputs": []
    },
    {
      "cell_type": "code",
      "source": [
        "f=Piecewise(\n",
        "    (-2, (x >= -pi) & (x <= -pi/2)),\n",
        "    (-1,(x >= -pi/2) & (x <= 0)),\n",
        "    (1, (x >= 0) & (x <= pi/2)),\n",
        "    (2,(x >= pi/2) & (x <= pi)))"
      ],
      "metadata": {
        "id": "waZSBeA3nnBx"
      },
      "id": "waZSBeA3nnBx",
      "execution_count": null,
      "outputs": []
    },
    {
      "cell_type": "code",
      "source": [
        "plot(f, (x,0,pi),line_color ='red')"
      ],
      "metadata": {
        "id": "PpteWpv8nprS"
      },
      "id": "PpteWpv8nprS",
      "execution_count": null,
      "outputs": []
    },
    {
      "cell_type": "code",
      "source": [
        "s = fourier_series(f, (x, - pi, pi))\n",
        "s1 = s.truncate(n = 1)\n",
        "s2 = s.truncate(n = 9)\n",
        "s3 = s.truncate(n = 11)\n",
        "p = plot(f, s1, s2, s3, (x, -pi, pi), show=False, legend=True)\n",
        "s"
      ],
      "metadata": {
        "id": "FdjnulxLnrk3"
      },
      "id": "FdjnulxLnrk3",
      "execution_count": null,
      "outputs": []
    },
    {
      "cell_type": "code",
      "source": [
        "p[0].label = 'x'\n",
        "p[1].label = 'n=3'\n",
        "p[2].label = 'n=5'\n",
        "p[3].label = 'n=7'\n",
        "p.show()"
      ],
      "metadata": {
        "id": "rP5Niel3nu_w"
      },
      "id": "rP5Niel3nu_w",
      "execution_count": null,
      "outputs": []
    }
  ],
  "metadata": {
    "kernelspec": {
      "display_name": "Python 3 (ipykernel)",
      "language": "python",
      "name": "python3"
    },
    "language_info": {
      "codemirror_mode": {
        "name": "ipython",
        "version": 3
      },
      "file_extension": ".py",
      "mimetype": "text/x-python",
      "name": "python",
      "nbconvert_exporter": "python",
      "pygments_lexer": "ipython3",
      "version": "3.7.3"
    },
    "colab": {
      "provenance": []
    }
  },
  "nbformat": 4,
  "nbformat_minor": 5
}