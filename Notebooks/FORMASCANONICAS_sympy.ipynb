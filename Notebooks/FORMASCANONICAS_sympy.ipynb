{
  "cells": [
    {
      "cell_type": "markdown",
      "source": [
        "Usar sympy para escribir un programa que:\n",
        "\n",
        "1) Calcule el indicador y decida que el tipo de una EDP dada.\n",
        "\n",
        "2) De la transformación transformación lineal para llevar a su forma canónica una ecuación hiperbólica (ver foto del pizarrón).\n",
        "\n",
        "3) Devuelva la EDP en su forma canónica."
      ],
      "metadata": {
        "id": "GRzLraKDdfO4"
      },
      "id": "GRzLraKDdfO4"
    },
    {
      "cell_type": "code",
      "source": [
        "import sympy as sp\n",
        "\n",
        "# Variables simbólicas\n",
        "x, y = sp.symbols('x y')\n",
        "xi, eta = sp.symbols('xi eta')\n",
        "A, B, C = sp.symbols('A B C')\n",
        "U = sp.Function('U')\n",
        "\n",
        "# Coeficientes de la ecuación\n",
        "A_val = 1\n",
        "B_val = -4\n",
        "C_val = 4\n",
        "\n",
        "# Paso 1: Calcular el discriminante\n",
        "discriminante = B**2 - 4*A*C\n",
        "D_val = discriminante.subs({A: A_val, B: B_val, C: C_val})\n",
        "print(f\"Discriminante: {D_val}\")\n",
        "\n",
        "# Paso 2: Clasificación\n",
        "if D_val > 0:\n",
        "    tipo = \"Hiperbólica\"\n",
        "elif D_val == 0:\n",
        "    tipo = \"Parabólica\"\n",
        "else:\n",
        "    tipo = \"Elíptica\"\n",
        "print(f\"Tipo de EDP: {tipo}\")\n",
        "\n",
        "# Paso 3: Transformaciones según tipo\n",
        "if tipo == \"Parabólica\":\n",
        "    xi_expr = -B_val * x + 2 * A_val * y\n",
        "    eta_expr = x\n",
        "elif tipo == \"Hiperbólica\":\n",
        "    sqrt_D = sp.sqrt(discriminante).subs({A: A_val, B: B_val, C: C_val})\n",
        "    xi_expr = (-(B + sqrt_D)*x + 2*A*y).subs({A: A_val, B: B_val})\n",
        "    eta_expr = (-(B - sqrt_D)*x + 2*A*y).subs({A: A_val, B: B_val})\n",
        "else:\n",
        "    raise ValueError(\"Transformación no implementada para elíptica.\")\n",
        "\n",
        "print(f\"\\nTransformación:\")\n",
        "print(f\"ξ = {xi_expr}\")\n",
        "print(f\"η = {eta_expr}\")\n",
        "\n",
        "# Paso 4: Invertir las transformaciones\n",
        "sols = sp.solve([sp.Eq(xi, xi_expr), sp.Eq(eta, eta_expr)], (x, y))\n",
        "x_xy = sols[x]\n",
        "y_xy = sols[y]\n",
        "\n",
        "# Paso 5: Función transformada\n",
        "U_transf = U(x_xy, y_xy)\n",
        "\n",
        "# Derivadas originales\n",
        "Uxy = sp.diff(U(x, y), x, y)\n",
        "Uxx = sp.diff(U(x, y), x, x)\n",
        "Uyy = sp.diff(U(x, y), y, y)\n",
        "Ux = sp.diff(U(x, y), x)\n",
        "Uy = sp.diff(U(x, y), y)\n",
        "\n",
        "# Paso 6: Derivadas por regla de la cadena\n",
        "xi_x = sp.diff(xi_expr, x)\n",
        "xi_y = sp.diff(xi_expr, y)\n",
        "eta_x = sp.diff(eta_expr, x)\n",
        "eta_y = sp.diff(eta_expr, y)\n",
        "\n",
        "U_x = sp.diff(U(xi, eta), xi)*xi_x + sp.diff(U(xi, eta), eta)*eta_x\n",
        "U_y = sp.diff(U(xi, eta), xi)*xi_y + sp.diff(U(xi, eta), eta)*eta_y\n",
        "\n",
        "U_xx = sp.diff(U_x, x)\n",
        "U_yy = sp.diff(U_y, y)\n",
        "U_xy = sp.diff(U_x, y)\n",
        "\n",
        "# Paso 7: Sustituir en la EDP original\n",
        "EDP_original = Uxx - 4*Uxy + 4*Uyy + 2*Ux + Uy + U(x, y)\n",
        "EDP_transformada = EDP_original.subs({\n",
        "    Uxx: U_xx,\n",
        "    Uxy: U_xy,\n",
        "    Uyy: U_yy,\n",
        "    Ux: U_x,\n",
        "    Uy: U_y,\n",
        "    U(x, y): U(xi, eta)\n",
        "}).doit()\n",
        "\n",
        "# Paso 8: Mostrar resultado\n",
        "print(\"\\nEcuación transformada (en ξ, η):\")\n",
        "sp.pprint(EDP_transformada.simplify())\n"
      ],
      "metadata": {
        "id": "Z9ky04VVkbpL",
        "outputId": "ed951193-c8da-4446-f945-115b801352c3",
        "colab": {
          "base_uri": "https://localhost:8080/"
        }
      },
      "id": "Z9ky04VVkbpL",
      "execution_count": 9,
      "outputs": [
        {
          "output_type": "stream",
          "name": "stdout",
          "text": [
            "Discriminante: 0\n",
            "Tipo de EDP: Parabólica\n",
            "\n",
            "Transformación:\n",
            "ξ = 4*x + 2*y\n",
            "η = x\n",
            "\n",
            "Ecuación transformada (en ξ, η):\n",
            "            ∂                ∂          \n",
            "U(ξ, η) + 2⋅──(U(ξ, η)) + 10⋅──(U(ξ, η))\n",
            "            ∂η               ∂ξ         \n"
          ]
        }
      ]
    }
  ],
  "metadata": {
    "kernelspec": {
      "display_name": "Python 3 (ipykernel)",
      "language": "python",
      "name": "python3"
    },
    "language_info": {
      "codemirror_mode": {
        "name": "ipython",
        "version": 3
      },
      "file_extension": ".py",
      "mimetype": "text/x-python",
      "name": "python",
      "nbconvert_exporter": "python",
      "pygments_lexer": "ipython3",
      "version": "3.7.3"
    },
    "colab": {
      "provenance": []
    }
  },
  "nbformat": 4,
  "nbformat_minor": 5
}