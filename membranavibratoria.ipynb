{
  "cells": [
    {
      "cell_type": "markdown",
      "metadata": {
        "id": "a9O8Ln0VqN-r"
      },
      "source": [
        "# Análisis de una solución de la ecuación del calor"
      ]
    },
    {
      "cell_type": "markdown",
      "metadata": {
        "id": "biHAEGQvqN-s"
      },
      "source": [
        "\n",
        "La ecuación\n",
        "$$\\frac{\\partial^2u}{\\partial t^2} = c^2 ( \\frac{\\partial^2 u}{\\partial x^2}+ \\frac{\\partial^2 u}{\\partial y^2} )$$\n",
        "\n",
        "sujeta a las condiciones de frontera:\n",
        "$$u(x,y)=0,  en  \\;  el \\; contorno \\; t>0$$\n",
        "    \n",
        "$$u(x,0)=0,\\;\\;\\;0<x<a$$  \n",
        "\n",
        "$$u(x,y,t)=X(x)Y(y)T(t) \\;\\;\\; $$\n"
      ]
    },
    {
      "cell_type": "code",
      "source": [
        "import sympy as sp\n",
        "\n",
        "# Definir variables\n",
        "x, y, t, a, b, c = sp.symbols('x y t a b c', real=True, positive=True)\n",
        "m, n = sp.symbols('m n', integer=True, positive=True)\n",
        "\n",
        "# Condiciones iniciales como funciones arbitrarias\n",
        "fxy = sp.Function('f')(x, y)\n",
        "gxy = sp.Function('g')(x, y)\n",
        "\n",
        "# Funciones propias en X y Y (Sturm-Liouville)\n",
        "X_m = sp.sin(m * sp.pi * x / a)\n",
        "Y_n = sp.sin(n * sp.pi * y / b)\n",
        "\n"
      ],
      "metadata": {
        "id": "_4AvL4To42h3"
      },
      "execution_count": 26,
      "outputs": []
    },
    {
      "cell_type": "code",
      "source": [
        "# Frecuencia angular\n",
        "omega_mn = c * sp.pi * sp.sqrt((m / a)**2 + (n / b)**2)\n",
        "\n",
        "# Coeficientes arbitrarios para cada modo\n",
        "A_mn = sp.Symbol(f'A_{m}{n}')\n",
        "B_mn = sp.Symbol(f'B_{m}{n}')\n",
        "\n",
        "# Solución temporal\n",
        "u_mn_t = A_mn * sp.cos(omega_mn * t) + B_mn * sp.sin(omega_mn * t)\n",
        "\n",
        "# Solución completa para cada término m,n\n",
        "u_mn_full = u_mn_t * X_m * Y_n\n",
        "\n"
      ],
      "metadata": {
        "id": "K9nY3E0K6DCd"
      },
      "execution_count": 28,
      "outputs": []
    },
    {
      "cell_type": "code",
      "source": [
        "# Serie doble infinita (formalmente)\n",
        "u_series = sp.summation(sp.summation(u_mn_full, (m, 1, sp.oo)), (n, 1, sp.oo))\n",
        "\n",
        "# Indicar que los problemas en X e Y son de Sturm-Liouville\n",
        "sturm_liouville_X = True  # X'' + λX = 0, X(0)=X(a)=0\n",
        "sturm_liouville_Y = True  # Y'' + μY = 0, Y(0)=Y(b)=0\n"
      ],
      "metadata": {
        "id": "JozudV-w6HjN"
      },
      "execution_count": null,
      "outputs": []
    },
    {
      "cell_type": "code",
      "source": [
        "\n",
        "# Mostrar resultados\n",
        "print(\"¿Es Sturm-Liouville en X?:\", sturm_liouville_X)\n",
        "print(\"¿Es Sturm-Liouville en Y?:\", sturm_liouville_Y)\n",
        "print(\"Forma general de la solución u(x, y, t):\")\n",
        "sp.pprint(u_series, use_unicode=True)"
      ],
      "metadata": {
        "id": "GEG1Det56MDN"
      },
      "execution_count": null,
      "outputs": []
    },
    {
      "cell_type": "code",
      "source": [],
      "metadata": {
        "id": "4Jo2qqlw5I6w"
      },
      "execution_count": null,
      "outputs": []
    }
  ],
  "metadata": {
    "kernelspec": {
      "display_name": "Python 3 (ipykernel)",
      "language": "python",
      "name": "python3"
    },
    "language_info": {
      "codemirror_mode": {
        "name": "ipython",
        "version": 3
      },
      "file_extension": ".py",
      "mimetype": "text/x-python",
      "name": "python",
      "nbconvert_exporter": "python",
      "pygments_lexer": "ipython3",
      "version": "3.7.3"
    },
    "colab": {
      "provenance": []
    }
  },
  "nbformat": 4,
  "nbformat_minor": 0
}